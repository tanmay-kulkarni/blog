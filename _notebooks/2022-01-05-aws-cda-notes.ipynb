{
 "cells": [
  {
   "cell_type": "markdown",
   "id": "308c68f0-2054-4c87-9801-cdc53563f6a1",
   "metadata": {},
   "source": [
    "# The Certified Developer Associate Exam\n",
    "> My handcrafted notes\n",
    "\n",
    "- toc: true\n",
    "- badges: true\n",
    "- categories: [certification, aws]"
   ]
  },
  {
   "cell_type": "markdown",
   "id": "34119ad5-1dc5-4557-bbb4-a53ca3b8cb4d",
   "metadata": {},
   "source": [
    "* Each region has multiple availability zones (usually 3, min is 2, max is 6)\n",
    "    - each AZ is one or more discrete data centers with its own redundant power, networking and connectivity\n",
    "    - AWS currently has 216 points of presence (205 Edge locations, 11 Regional caches) in 84 cities across 42 countries"
   ]
  },
  {
   "cell_type": "markdown",
   "id": "4d04978b-5433-4138-a7ca-9bb07f9f845e",
   "metadata": {
    "tags": []
   },
   "source": [
    "# IAM\n",
    "\n",
    "* IAM is a global service. Doesn't require Region selection\n",
    "* A user can belong to multiple groups\n",
    "* In AWS you apply the Least Privilege principle. i.e. you don't give more permissions than a user needs\n"
   ]
  },
  {
   "cell_type": "markdown",
   "id": "4bca35ae-c5be-4457-bf2d-e0deb9306167",
   "metadata": {
    "tags": []
   },
   "source": [
    "## IAM Policy Structure\n",
    "\n",
    "It consists of:\n",
    "    \n",
    "    - Version\n",
    "    \n",
    "    - Id: optional\n",
    "    \n",
    "    - Statement: one or more individual statements (required)\n",
    "        \n",
    "        * Sid: identifier for the statement (optional)\n",
    "        * Effect: whether the statement allows or denies access (Allow, Deny)\n",
    "        * Principal: account/user/role to which this policy applies\n",
    "        * Action: List of actions this policy allows or denies\n",
    "        * Resource: List of resources to which this action applies\n",
    "        * Condition: conditions for when this policy is in effect (optional)\n",
    "        "
   ]
  },
  {
   "cell_type": "markdown",
   "id": "d162ae0e-96ae-4a99-9dc5-5c7e922a84c3",
   "metadata": {},
   "source": [
    "* Multi Factor Authentication (MFA) device options in AWS:\n",
    "\n",
    "- Virtual MFA device (like Google Authenticator)\n",
    "- Universal 2nd Factor (U2F) Security Key (A physical device)\n",
    "- Hardware key Fob MFA device\n",
    "- Hardware Key Fob MFA Device for AWS GovCloud (US)"
   ]
  },
  {
   "cell_type": "markdown",
   "id": "1ddff500-894b-4759-91d7-dcedcd077617",
   "metadata": {},
   "source": [
    "* IAM roles are a secure way of granting permissions to entities you trust, to perform actions on your behalf. Examples of entities are:\n",
    "\n",
    "    - IAM user in another account\n",
    "    - Application code running on Ec2 that needs to perform actions on AWS resources\n",
    "    - An AWS service that needs to act on resources in your account to provide features\n",
    "    - Users from a corporate directory who use Identity Federation with SAML\n",
    "    \n",
    "* IAM security Tools:\n",
    "\n",
    "    - IAM Credentials report (account-level)\n",
    "        * This report lists all your account's users and status of their various credentials\n",
    "    - IAM Access advisor shows the service permissions granted to each user and when they were last accessed"
   ]
  },
  {
   "cell_type": "markdown",
   "id": "b94dd3bc-07fd-4ade-a775-16e468cc3572",
   "metadata": {
    "tags": []
   },
   "source": [
    "# EC2\n",
    "\n",
    "* It is possible to bootstrap instances using an EC2 user data script. It allows you to run commands when your machine starts. That script is only run once at the instance first start. THE EC2 USER DATA SCRIPT RUNS WITH THE ROOT USER.\n",
    "\n",
    "* Different EC2 instance types are optimised for different use cases. Naming convention:\n",
    "    \n",
    "    - m5.2xlarge, m: instance class, 5: generation, 2xlarge: size within the instance class\n",
    "\n",
    "* Application ports to remember: \n",
    "    \n",
    "    - 22: SSH\n",
    "    - 21: FTP\n",
    "    - 22: SFTP (Uploads using SSH)\n",
    "    - 80: HTTP\n",
    "    - 443: HTTPS\n",
    "    - 3389: RDP (Remote Desktop Protocol) - log into Windows instances\n",
    "\n",
    "* EBS Volume\n",
    "    \n",
    "    - It's a network drive\n",
    "    - It can be detached from an EC2 instance and attached to another quickly\n",
    "    - It's locked to an Availability Zone (AZ)\n",
    "    - You can copy snapshots across AZ or region\n",
    "    - **To move a volume across AZ, you'll need to snapshot it.**\n",
    "    - An EBS volume cannot be attached to more than 1 EC2 instance at a time\n",
    "    - However, an EC2 instance can have more than 1 EBS volumes attached to it at the same time\n",
    "    - It is possible to leave EBS volumes unattached\n",
    "    - By default, the root EBS volume is deleted\n",
    "    - By default, any other attached EBS volume is not deleted\n",
    "    - It's not necessary to detach a volume to do the snapshot, but it's recommended\n",
    "\n",
    "* EC2 Instance Store\n",
    "\n",
    "    - EBS volumes are network drives with good but limited performance\n",
    "    - If you need a high-performance hardware disk, use EC2 instance store (It has high I/O performance)\n",
    "    - EC2 instance store lose their storage when they're stopped (ephemeral)\n",
    "    - EC2 instance store is therefore great for buffer/cache/scrath data/temporary content\n",
    "    \n",
    "* EBS volume types:\n",
    "\n",
    "    - gp2/gp3 (SSD): General Purpose SSD volume that balance price and performance for a wide variety of workloads\n",
    "    - io1/io2 (SSD): Highest-performance SSD volume for mission-critical low-latency or high-throughput workloads\n",
    "    - st1 (HDD): Low cost HDD volume designed for frequently accessed, throughput-intensive workloads\n",
    "    - sc2 (HDD): Lowest cost HDD volume designed for less frequently accessed workloads\n",
    "    - Only gp2/gp3 and io1/io2 can be used as boot volumes\n",
    "  \n",
    "  \n",
    "* EBS Multi Attach:\n",
    "\n",
    "    - Attach the same EBS volume to multiple EC2 instances in the same AZ\n",
    "    - Each instance has full read and write permissions to the volume\n",
    "    - Use case: Achieve higher application availability in clustered Linux applications (ex - Teradata)\n",
    "    - Must use a file system that is cluster-aware\n",
    "    \n",
    "* EFS - Elastic File System\n",
    "\n",
    "    - Managed NFS that can be mounted on many EC2\n",
    "    - EFS works with EC2 instances in multiple Availability Zones (AZ)\n",
    "    - It's highly available, scalable and expensive (3x gp2), pay per use\n",
    "    - Compatible with Linux based AMI only (Not Windows)\n",
    "    - Encryption at rest using KMS\n",
    "    - It has standard file API\n",
    "    - Throughput 10GB+/s ... can grow to petabyte-scale network file system, automatically\n",
    "    - Supports Performance (default) and Throughput mode\n",
    "    - Storage Tiers (lifecycle management feature - move file after N days)\n",
    "            - Standard: for frequently accessed files\n",
    "            - Infrequently accessed files (EFS-IA): cost to retrieve files, lower price to store\n",
    "            \n",
    "* Load Balancer\n",
    "\n",
    "    - Classic Load Balancer (v1 - old generation)\n",
    "        - Supports HTTP, HTTPS, TCP, SSL\n",
    "        - Health checks are either TCP based or HTTP based\n",
    "        - You'll get a fixed hostname out of these\n",
    "        - Supports only one SSL certificate\n",
    "    - Application Load Balancer (v2 = new generation)\n",
    "        - HTTP, HTTPS, WebSocket\n",
    "        - It's a layer 7 load balancer only\n",
    "        - Load balancing to multiple HTTP applications across machines (target groups)\n",
    "        - Load balancing to multiple applications on the same machine\n",
    "        - Support for HTTP/2 and websocket\n",
    "        - Fixed hostname\n",
    "        - The application servers don't see the IP of the client directly\n",
    "            - The true IP of the client is inserted in the header X-Forwarded-For\n",
    "            - We can also get Port (X-Forwarded-Port) and proto (X-Forwarded-Proto)\n",
    "        - Supports multiple listeners with multiple SSL certificates. It uses Server Name Indication (SNI) to make it work.\n",
    "        \n",
    "    - Network Load Balancer (v2 - new generation)\n",
    "        - TCP, TLS, UDP\n",
    "        - Forward TCP & UDP traffic to your instances\n",
    "        - Handle millions of requests per seconds\n",
    "        - NLBs are used for extreme performance, TCP or UDP Traffic\n",
    "        - You can assign 1 fixed IP (static IP) per availability zone to a NLB \n",
    "        - Supports multiple listeners with multiple SSL certificates. It uses Server Name Indication (SNI) to make it work.\n",
    "        \n",
    "    - Gateway Load Balancer\n",
    "        - Operates at layer 3 (Network Layer)\n",
    "        - Deploy, scale and manage a fleet of 3rd party network virtual appliances \n",
    "        - If you want all traffic to go through Firewalls, Intrusion Detection and prevention systems, Deep packet inspection, Payload manipulation before it reaches your application, then this LB is used\n",
    "        - **Uses the GENEVE protocol on port 6081**\n",
    "        \n",
    "* Sticky sessions for a load balancer (Session Affinity)\n",
    "    - It is possible to implement stickiness so that the same client is always redirected to the same instance behind a load balancer\n",
    "    - This behaviour can be enabled for the CLASSIC Load Balancer and Application Load Balancer\n",
    "    - The cookie used for stickiness has an expiration date you control\n",
    "    - Use Case: Make sure the user doesn't lose the session data\n",
    "    - The cookies can be\n",
    "        - Application-based cookie (Custom cookie, generated by the target)\n",
    "            - Can include custom attributes required by the application\n",
    "            - Cookie name must be specified individually for each target group\n",
    "            - DON'T use AWSALB, AWSALBAPP or AWSALBTG (reserved for use by the ELB)\n",
    "        - Application Cookie\n",
    "            - Generated by the Load Balancer\n",
    "            - Cookie name is AWSALBAPP\n",
    "        - Duration-based Cookie\n",
    "            - Cookie generated by the load balancer\n",
    "            - Cookie name is AWSALB for ALB and AWSELB for CLB\n",
    "            \n",
    "\n",
    "* Cross-Zone balancing\n",
    "    - It's possible to distribute the traffic evenly across multiple AZ irrespective of how many instances there are within that AZ (with Cross-Zone balancing)\n",
    "    - It's also possible to distribute the traffic based on the proportion of instances in each AZ (without Cross-Zone balancing)\n",
    "    \n",
    "    - Cross-Zone Load Balancing is Always On in an Application Load Balancer (can't be disabled. No charges of Inter AZ-data)\n",
    "    - Cross-Zone Load Balancing is disabled by default in the Network Load Balancer. You pay charges for inter AZ data if enabled\n",
    "    - Cross-Zone Load Balancing is disabled by default in the classic Load balancer (No charges for inter AZ data if enabled)"
   ]
  },
  {
   "cell_type": "markdown",
   "id": "eee7eef2-7ae7-46e5-a930-a014c05d9e45",
   "metadata": {},
   "source": [
    "# SSL/TLS - Basics\n",
    "\n",
    "- SSL = Secure Sockets Layer, used to encrypt connections\n",
    "- TLS = Transport Layer Security, which is a newer version. Nowadays, TLS certificates are mainly used, but people still refer to them as SSL\n",
    "- Public SSL certificates are issued by Certificate Authorities (CA)\n",
    "- The load balancer used an X.509 certificate (or SSL/TLS certificate)\n",
    "- You can manage certificates using AWS Certificate Manager"
   ]
  },
  {
   "cell_type": "markdown",
   "id": "c163fcca-a854-4643-893e-1df77596db38",
   "metadata": {},
   "source": [
    "# SNI - Server Name Indication\n",
    "\n",
    "- SNI solves the problem of loading multiple SSL certificates onto one web server (to serve multiple websites)\n",
    "- It's a newer protocol and requires the client to indicate the hostname of the target server in the initial SSL handshake\n",
    "- The server will then find the correct certificate, or return the default one\n",
    "- It only works with Application Load Balancers (ALB) & Network Load Balancers (NLB) and CloudFront. It does NOT work with Classic Load Balancer (CLB)\n"
   ]
  },
  {
   "cell_type": "markdown",
   "id": "260d816d-3cd7-45e6-b0ea-a51fb3498f0a",
   "metadata": {},
   "source": [
    "# Connection Draining\n",
    "\n",
    "- Known as Connection Draining - For Classic Load Balancer (CLB)\n",
    "- Known as Deregistration Delay - For ALB and NLB\n",
    "- The idea is that it will give some time to your instances to complete the In Flight Requests, while the instance is being deregisterd or marked unhealthy\n",
    "- Once the instance is drained, it will stop sending new requests to the EC2 instance which is being de-registered"
   ]
  }
 ],
 "metadata": {
  "kernelspec": {
   "display_name": "Python 3 (ipykernel)",
   "language": "python",
   "name": "python3"
  },
  "language_info": {
   "codemirror_mode": {
    "name": "ipython",
    "version": 3
   },
   "file_extension": ".py",
   "mimetype": "text/x-python",
   "name": "python",
   "nbconvert_exporter": "python",
   "pygments_lexer": "ipython3",
   "version": "3.9.7"
  }
 },
 "nbformat": 4,
 "nbformat_minor": 5
}
