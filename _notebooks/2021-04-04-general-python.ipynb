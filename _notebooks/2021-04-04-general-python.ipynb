{
 "cells": [
  {
   "cell_type": "markdown",
   "metadata": {},
   "source": [
    "# iPython tricks\n",
    "> Some important ipython tricks and tools\n",
    "\n",
    "- toc: true\n",
    "- badges: true\n",
    "- categories: [python]"
   ]
  },
  {
   "cell_type": "markdown",
   "metadata": {},
   "source": [
    "* Output of a command can be assigned to a variable\n",
    "\n",
    "    - This works only in IPython or Jupyter, it will not run in regular Python"
   ]
  },
  {
   "cell_type": "code",
   "execution_count": 5,
   "metadata": {},
   "outputs": [],
   "source": [
    "ls = !ls"
   ]
  },
  {
   "cell_type": "code",
   "execution_count": 7,
   "metadata": {},
   "outputs": [
    {
     "data": {
      "text/plain": [
       "IPython.utils.text.SList"
      ]
     },
     "execution_count": 7,
     "metadata": {},
     "output_type": "execute_result"
    }
   ],
   "source": [
    "# Type is an Slist\n",
    "type(ls)"
   ]
  },
  {
   "cell_type": "markdown",
   "metadata": {},
   "source": [
    "## Commands can be passed to a python interpreter\n",
    "\n",
    "    - python -c \"import datetime;print(datetime.datetime.utcnow())\""
   ]
  },
  {
   "cell_type": "code",
   "execution_count": null,
   "metadata": {},
   "outputs": [],
   "source": []
  },
  {
   "cell_type": "code",
   "execution_count": 3,
   "metadata": {},
   "outputs": [
    {
     "name": "stdout",
     "output_type": "stream",
     "text": [
      "Filesystem                             Size   Used  Avail Capacity iused      ifree %iused  Mounted on\n",
      "/dev/disk1s1s1                        466Gi   14Gi  337Gi     4%  568975 4881883905    0%   /\n",
      "devfs                                 230Ki  230Ki    0Bi   100%     796          0  100%   /dev\n",
      "/dev/disk1s5                          466Gi  6.0Gi  337Gi     2%       6 4882452874    0%   /System/Volumes/VM\n",
      "/dev/disk1s3                          466Gi  371Mi  337Gi     1%    1298 4882451582    0%   /System/Volumes/Preboot\n",
      "/dev/disk1s6                          466Gi  2.1Mi  337Gi     1%      15 4882452865    0%   /System/Volumes/Update\n",
      "/dev/disk1s2                          466Gi  108Gi  337Gi    25%  675547 4881777333    0%   /System/Volumes/Data\n",
      "map auto_home                           0Bi    0Bi    0Bi   100%       0          0  100%   /System/Volumes/Data/home\n",
      "pCloud.fs                             8.0Gi  1.9Gi  6.1Gi    25%       0          0  100%   /Users/tanmay/pCloud Drive\n",
      "/Users/tanmay/Downloads/TextMate.app  466Gi  104Gi  346Gi    24%  645214 4881807666    0%   /private/var/folders/nh/wr9z17hd7kdd2wn87xjknv_40000gn/T/AppTranslocation/A1844839-7447-4F97-8106-9798FF76A7B3\n"
     ]
    }
   ],
   "source": [
    "!df -h"
   ]
  }
 ],
 "metadata": {
  "kernelspec": {
   "display_name": "Python 3",
   "language": "python",
   "name": "python3"
  },
  "language_info": {
   "codemirror_mode": {
    "name": "ipython",
    "version": 3
   },
   "file_extension": ".py",
   "mimetype": "text/x-python",
   "name": "python",
   "nbconvert_exporter": "python",
   "pygments_lexer": "ipython3",
   "version": "3.9.1"
  }
 },
 "nbformat": 4,
 "nbformat_minor": 4
}
