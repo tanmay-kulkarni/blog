{
 "cells": [
  {
   "cell_type": "markdown",
   "id": "d81783c2-8682-4128-800c-4702c7e49f31",
   "metadata": {},
   "source": [
    "# Serverless Configuration on new machine\n",
    "> Follow these steps to avoid pain\n",
    "\n",
    "- toc: true\n",
    "- badges: true\n",
    "- categories: [serverless, lambda]"
   ]
  },
  {
   "cell_type": "markdown",
   "id": "aa1a7332-787d-4815-8c4b-ca049306b8a1",
   "metadata": {},
   "source": [
    "## The pain of installing Serverless\n",
    "\n",
    "I've always run into permissions/dependency issues when installing serverless on a new machine. First, it needs `node` installed, which I'm not the least bit familiar with. Then it needs `npm` which is a package manager. So far, okay.\n",
    "\n",
    "But the serverless documentation for installing it is not super useful, IMHO, for it's not super clear about what to do if you simply can't find your `serverless` command or fail to install it despite following the tutorial."
   ]
  },
  {
   "cell_type": "markdown",
   "id": "6fd4aaeb-ee48-4149-bbcb-02aab15c3674",
   "metadata": {},
   "source": [
    "## Do this instead\n",
    "\n",
    "( Thanks to this answer on SO: https://stackoverflow.com/a/66166866/5486022 )\n",
    "\n",
    "* Step 1: Install Node\n",
    "\n",
    "    1. Go to https://nodejs.org/en/ and download the node installer for you system (I use Linux)\n",
    "    \n",
    "    2. $ sudo apt update\n",
    "    \n",
    "    3. $ sudo apt install xz-utils\n",
    "    \n",
    "    4. $ sudo tar -xvf name_of_file (let it be `node-v14.15.5-linux-x64`)\n",
    "    \n",
    "    5. $ sudo cp -r node-v14.15.5-linux-x64/{bin,include,lib,share} /usr/\n",
    "    \n",
    "    6. $ node --version\n",
    "   \n",
    "You should now have node installed on your system"
   ]
  },
  {
   "cell_type": "markdown",
   "id": "2386445b-9315-43c8-aeb8-7573edbd6af8",
   "metadata": {},
   "source": [
    "* Step 2: Install Serverless as a project dependency (avoid global install `npm install -g serverless`)\n",
    "\n",
    "    ( Thanks to this answer on SO: https://stackoverflow.com/a/68069795/5486022 )\n",
    "\n",
    "    1. $ npm i -D serverless (At your serverless project root)\n",
    "    \n",
    "    2. $ npx sls --version\n",
    "    \n",
    "    3. $ npx serverless deploy OR npx sls deploy\n",
    "    \n",
    "You should now have Serverless installed for your project"
   ]
  }
 ],
 "metadata": {
  "kernelspec": {
   "display_name": "Python 3 (ipykernel)",
   "language": "python",
   "name": "python3"
  },
  "language_info": {
   "codemirror_mode": {
    "name": "ipython",
    "version": 3
   },
   "file_extension": ".py",
   "mimetype": "text/x-python",
   "name": "python",
   "nbconvert_exporter": "python",
   "pygments_lexer": "ipython3",
   "version": "3.9.7"
  }
 },
 "nbformat": 4,
 "nbformat_minor": 5
}
