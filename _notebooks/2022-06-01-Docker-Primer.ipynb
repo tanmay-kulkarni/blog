{
 "cells": [
  {
   "cell_type": "markdown",
   "metadata": {},
   "source": [
    "# Docker quick reference\n",
    "> The only containerization technology you need\n",
    "\n",
    "- toc: true\n",
    "- badges: true\n",
    "- categories: [docker]"
   ]
  },
  {
   "cell_type": "markdown",
   "metadata": {},
   "source": [
    "* Docker is based on LXC, an operating system level containerization method. Docker offers a high level tool on top of that.\n",
    "* The main purpose of Docker is to package and containerize applications with their dependencies and ship them"
   ]
  },
  {
   "cell_type": "markdown",
   "metadata": {},
   "source": [
    "## Common Docker commands\n",
    "\n",
    "1. `docker run`\n",
    "    - Run a container from an image. If the image is not present on the host, docker will search and download it from the configured registry (DockerHub) \n",
    "    - Attached or Detached mode\n",
    "        - `docker run -d image_name`\n",
    "        - `docker attach container_id` : Attach a detached container\n",
    "    - Specify a tag\n",
    "        - `docker run -d redis:4.0` : Here, `4.0` is the tag\n",
    "        - If you don't specify a tag, `latest` is considered by default\n",
    "2. `docker ps`\n",
    "    - List running containers with some basic information\n",
    "    - `docker ps -a` : List ALL containers\n",
    "3. `docker stop container_name_or_id`\n",
    "    - Stop a running container\n",
    "4. `docker rm container_name_or_id`\n",
    "    - Remove a stopped container\n",
    "5. `docker images`\n",
    "    - Show available images\n",
    "6. `docker rmi image_name`\n",
    "    - Remove an image\n",
    "7. `docker pull`\n",
    "    - Only pull an image but don't run\n",
    "8. Execute a command on a running container\n",
    "    - `docker exec container_name_or_id cat /etc/hosts`\n",
    "9. Port mapping : map a port from inside the docker container to the host its running on\n",
    "    - `docker run -p 80:5000 tanmay/my-simple-app`\n",
    "    - The above command will make sure that all traffic on port 80 of your host is routed to port 5000 inside your docker container\n",
    "10. Data persistance\n",
    "    * You can map a directory on your host (outside the docker container) to a file system location of your container to make sure the data persists\n",
    "    * e.g. Assume that you're running a mysql container\n",
    "        - the mysql server stores its data at the location `var/lib/mysql`. If you remove the container, this data will be lost\n",
    "        - you can map a directory on your host instead like so:\n",
    "            - `docker run -v /opt/datadir:/var/lib/mysql mysql`\n",
    "            - This way when the container runs, it will mount the external directory and store the data there\n",
    "11. Inspecting the container (sometimes `ps` is not enough)\n",
    "    - `docker inspect container_name_or_id`\n",
    "    - Returns the container configuration in JSON format\n",
    "12. Logs\n",
    "    - `docker logs container_name_of_id`"
   ]
  },
  {
   "cell_type": "markdown",
   "metadata": {},
   "source": [
    "## Important points\n",
    "\n",
    "* A container lives only until the process inside it is alive\n",
    "* To map the standard input of your host to a container, you need to pass the `i` flag for the interactive mode\n",
    "    - `docker run -i redis`\n",
    "* To get the app's output on *your* terminal, use the `-t` flag for the terminal mode\n",
    "    - `docker run -it redis`\n",
    "* The `-it` combination makes sure that your container is attached to the terminal as well as running in interactive mode"
   ]
  }
 ],
 "metadata": {
  "language_info": {
   "name": "python"
  },
  "orig_nbformat": 4
 },
 "nbformat": 4,
 "nbformat_minor": 2
}
