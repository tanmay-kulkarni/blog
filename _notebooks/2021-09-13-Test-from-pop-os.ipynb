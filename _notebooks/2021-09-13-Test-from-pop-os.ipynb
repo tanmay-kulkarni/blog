{
 "cells": [
  {
   "cell_type": "markdown",
   "id": "2f446c54-de34-4d4e-86ec-e37669afe4d4",
   "metadata": {},
   "source": [
    "# AWS Certified Developer Associate Notes\n",
    "> For the AWS Certification!\n",
    "\n",
    "- toc: true\n",
    "- badges: true\n",
    "- categories: [aws, certification]"
   ]
  },
  {
   "cell_type": "markdown",
   "id": "682ec36f-362f-48c3-8ce3-004b43a3053d",
   "metadata": {},
   "source": [
    "## Dummy Title\n",
    "\n",
    "    1. sub title 1\n",
    "    2. sub title 2"
   ]
  },
  {
   "cell_type": "code",
   "execution_count": null,
   "id": "9107846d-f2f4-4b0d-908d-cdec4d5725fe",
   "metadata": {},
   "outputs": [],
   "source": []
  }
 ],
 "metadata": {
  "kernelspec": {
   "display_name": "Python 3",
   "language": "python",
   "name": "python3"
  },
  "language_info": {
   "codemirror_mode": {
    "name": "ipython",
    "version": 3
   },
   "file_extension": ".py",
   "mimetype": "text/x-python",
   "name": "python",
   "nbconvert_exporter": "python",
   "pygments_lexer": "ipython3",
   "version": "3.8.8"
  }
 },
 "nbformat": 4,
 "nbformat_minor": 5
}
