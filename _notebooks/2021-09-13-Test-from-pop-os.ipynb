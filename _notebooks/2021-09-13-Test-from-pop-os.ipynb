{
 "cells": [
  {
   "cell_type": "markdown",
   "id": "2f446c54-de34-4d4e-86ec-e37669afe4d4",
   "metadata": {},
   "source": [
    "# Python Tricks\n",
    "> Cool python hacks!\n",
    "\n",
    "- toc: true\n",
    "- badges: true\n",
    "- categories: [python, tricks]"
   ]
  },
  {
   "cell_type": "markdown",
   "id": "927a4826-1b92-4684-aa33-5b93dd441293",
   "metadata": {},
   "source": [
    "**Adding underscores to numbers**"
   ]
  },
  {
   "cell_type": "code",
   "execution_count": 15,
   "id": "3c965969-bb21-431f-b779-ca2daa8a98d2",
   "metadata": {},
   "outputs": [
    {
     "name": "stdout",
     "output_type": "stream",
     "text": [
      "10090000000\n"
     ]
    }
   ],
   "source": [
    "# Assume that you want to add two numbers\n",
    "\n",
    "num1 = 10000000000\n",
    "num2 = 90000000\n",
    "\n",
    "sum1 = num1 + num2\n",
    "\n",
    "print(sum1)"
   ]
  },
  {
   "cell_type": "code",
   "execution_count": 16,
   "id": "9107846d-f2f4-4b0d-908d-cdec4d5725fe",
   "metadata": {},
   "outputs": [
    {
     "name": "stdout",
     "output_type": "stream",
     "text": [
      "10090000000\n"
     ]
    }
   ],
   "source": [
    "# You can make this more readable like so:\n",
    "\n",
    "num1 = 10_000_000_000\n",
    "num2 = 90_000_000\n",
    "\n",
    "sum2 = num1 + num2\n",
    "\n",
    "print(sum2)"
   ]
  },
  {
   "cell_type": "code",
   "execution_count": 25,
   "id": "4150ac27-dd74-4445-b898-e84bb71566af",
   "metadata": {},
   "outputs": [
    {
     "data": {
      "text/plain": [
       "True"
      ]
     },
     "execution_count": 25,
     "metadata": {},
     "output_type": "execute_result"
    }
   ],
   "source": [
    "sum1 == sum2"
   ]
  },
  {
   "cell_type": "markdown",
   "id": "f67c5c49-1c1b-4df6-8c29-09c219ec25ac",
   "metadata": {},
   "source": [
    "## More readability"
   ]
  },
  {
   "cell_type": "code",
   "execution_count": 22,
   "id": "f557ebd4-2ac0-4b5f-a7fa-8c54de6caa43",
   "metadata": {},
   "outputs": [],
   "source": [
    "# Format using fstrings\n",
    "print(f'{sum2:,}')"
   ]
  },
  {
   "cell_type": "markdown",
   "id": "a7379fdb-1cd8-496c-b5bb-5c010f07e67c",
   "metadata": {},
   "source": [
    "Note that the type of the output gets changed, obviously"
   ]
  },
  {
   "cell_type": "code",
   "execution_count": 24,
   "id": "9f0a1eee-cd31-4435-a5c9-2b3a8bacfafb",
   "metadata": {},
   "outputs": [
    {
     "name": "stdout",
     "output_type": "stream",
     "text": [
      "<class 'str'>\n"
     ]
    }
   ],
   "source": [
    "print(type(f'{sum2:,}'))"
   ]
  },
  {
   "cell_type": "markdown",
   "id": "4a1a8b7b-ef83-4cf8-9d35-811e13ab82e6",
   "metadata": {},
   "source": [
    "## Use context manager to manage file handling"
   ]
  },
  {
   "cell_type": "code",
   "execution_count": null,
   "id": "fe544fa0-44d5-4503-9d6b-d0e081c99dc0",
   "metadata": {},
   "outputs": [],
   "source": [
    "f = open('myfile.csv', 'r')\n",
    "file_contents = f.read()\n",
    "f.close()"
   ]
  },
  {
   "cell_type": "markdown",
   "id": "6f0a0122-7324-4edc-b263-d54d23b96055",
   "metadata": {},
   "source": [
    "**Try a context manager instead. This way you don't have to remember to close the file handle**"
   ]
  },
  {
   "cell_type": "code",
   "execution_count": null,
   "id": "9c1f532e-f18b-4c15-afe3-f3856ac1ad1f",
   "metadata": {},
   "outputs": [],
   "source": [
    "with open('myfile.csv', 'r') as f:\n",
    "    file_contents = f.read()"
   ]
  },
  {
   "cell_type": "markdown",
   "id": "a222a539-5157-4637-a68a-058f1c0cc68a",
   "metadata": {},
   "source": [
    "The above concept of context managers is applicable not only to files, but to any other resource you might use such as threads."
   ]
  },
  {
   "cell_type": "markdown",
   "id": "63266bad-1eb7-4f29-8ee1-3b99c36d4361",
   "metadata": {},
   "source": [
    "## Using the enumerate function"
   ]
  },
  {
   "cell_type": "code",
   "execution_count": 28,
   "id": "039dcd3f-ce31-4db9-9ede-9e5f1b889281",
   "metadata": {},
   "outputs": [
    {
     "name": "stdout",
     "output_type": "stream",
     "text": [
      "1 A\n",
      "2 and\n",
      "3 B\n",
      "4 play\n",
      "5 God of war\n",
      "6 together\n"
     ]
    }
   ],
   "source": [
    "words = ['A', 'and', 'B', 'play', 'God of war', 'together']\n",
    "\n",
    "index = 1\n",
    "for word in words:\n",
    "    print(index, word)\n",
    "    index += 1"
   ]
  },
  {
   "cell_type": "markdown",
   "id": "bb830938-0087-4293-bc0b-3e688472e151",
   "metadata": {},
   "source": [
    "**There's a better way to do this**"
   ]
  },
  {
   "cell_type": "code",
   "execution_count": 29,
   "id": "2eefbae6-f6c3-4799-a477-67da68b42260",
   "metadata": {},
   "outputs": [
    {
     "name": "stdout",
     "output_type": "stream",
     "text": [
      "1 A\n",
      "2 and\n",
      "3 B\n",
      "4 play\n",
      "5 God of war\n",
      "6 together\n"
     ]
    }
   ],
   "source": [
    "for ix, word in enumerate(words, start=1):\n",
    "    print(ix, word)"
   ]
  },
  {
   "cell_type": "markdown",
   "id": "f140a2be-32e6-47ec-8c1a-3a2c5fc63f02",
   "metadata": {},
   "source": [
    "## Using the ZIP function"
   ]
  },
  {
   "cell_type": "code",
   "execution_count": 34,
   "id": "c916e5a8-69b0-4b08-90c0-867a245ac4f1",
   "metadata": {},
   "outputs": [
    {
     "name": "stdout",
     "output_type": "stream",
     "text": [
      "Batman is actually Bruce Wayne created by DC\n",
      "Superman is actually Clark Kent created by DC\n",
      "Spiderman is actually Peter Parker created by Marvel\n"
     ]
    }
   ],
   "source": [
    "persons = ['Bruce Wayne', 'Clark Kent', 'Peter Parker']\n",
    "heroes = ['Batman', 'Superman', 'Spiderman']\n",
    "universes = ['DC', 'DC', 'Marvel']\n",
    "\n",
    "for person, hero, universe in zip(persons, heroes, universes):\n",
    "    print(f'{hero} is actually {person} created by {universe}')"
   ]
  },
  {
   "cell_type": "markdown",
   "id": "45a4a355-d2dd-4a70-b9de-d76866dd439b",
   "metadata": {},
   "source": [
    "## Quick note about unpacking values\n",
    "\n",
    "**The following two lines of code result in a ValueError**"
   ]
  },
  {
   "cell_type": "code",
   "execution_count": null,
   "id": "8d46ff6a-39b0-42cd-b0e6-d7c01ac870e5",
   "metadata": {},
   "outputs": [],
   "source": [
    "a,b,c = (1,2,3,4,5)\n",
    "\n",
    "a,b,c,d,e = (1,2,3)"
   ]
  },
  {
   "cell_type": "markdown",
   "id": "41b8f45f-8afd-460e-8622-d55eeff29782",
   "metadata": {},
   "source": [
    "**Unpacking fewer variables**"
   ]
  },
  {
   "cell_type": "code",
   "execution_count": 40,
   "id": "f039104a-69a4-4877-8602-f94e0a03283c",
   "metadata": {},
   "outputs": [
    {
     "name": "stdout",
     "output_type": "stream",
     "text": [
      "a = 1\n",
      "b = 2\n",
      "c = [3, 4, 5]\n"
     ]
    }
   ],
   "source": [
    "a, b, *c = (1,2,3,4,5)\n",
    "\n",
    "print(f'a = {a}')\n",
    "print(f'b = {b}')\n",
    "print(f'c = {c}')"
   ]
  },
  {
   "cell_type": "markdown",
   "id": "9ee9edd6-86ea-4b40-9eef-4931c426921e",
   "metadata": {},
   "source": [
    "## Accepting passwords"
   ]
  },
  {
   "cell_type": "code",
   "execution_count": 41,
   "id": "142c974d-40af-4b7b-b063-e95599049a9a",
   "metadata": {},
   "outputs": [
    {
     "name": "stdin",
     "output_type": "stream",
     "text": [
      "Username:  tanmay\n",
      "Password:  ······\n"
     ]
    },
    {
     "name": "stdout",
     "output_type": "stream",
     "text": [
      "Logging in...\n"
     ]
    }
   ],
   "source": [
    "from getpass import getpass\n",
    "username = input(\"Username: \")\n",
    "password = getpass(\"Password: \")\n",
    "\n",
    "print(\"Logging in...\")"
   ]
  },
  {
   "cell_type": "markdown",
   "id": "fbe6d01d-ff5d-48e6-979d-2628d242cde5",
   "metadata": {},
   "source": [
    "**That's it for now!**"
   ]
  }
 ],
 "metadata": {
  "kernelspec": {
   "display_name": "Python 3",
   "language": "python",
   "name": "python3"
  },
  "language_info": {
   "codemirror_mode": {
    "name": "ipython",
    "version": 3
   },
   "file_extension": ".py",
   "mimetype": "text/x-python",
   "name": "python",
   "nbconvert_exporter": "python",
   "pygments_lexer": "ipython3",
   "version": "3.8.8"
  }
 },
 "nbformat": 4,
 "nbformat_minor": 5
}
