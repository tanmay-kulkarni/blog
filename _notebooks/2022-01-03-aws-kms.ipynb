{
 "cells": [
  {
   "cell_type": "markdown",
   "id": "eeb68700-5cc2-47f7-aa26-e7370b613a37",
   "metadata": {},
   "source": [
    "# AWS KMS\n",
    "> Regarding Key Management Service in AWS\n",
    "\n",
    "- toc: true\n",
    "- badges: true\n",
    "- categories: [certification, kms, aws]\n"
   ]
  },
  {
   "cell_type": "markdown",
   "id": "73f6a057-dc08-4961-8948-6812d3dd40c9",
   "metadata": {},
   "source": [
    "**Customer Master Keys (CMK)** - The primary resources in AWS KMS are customer master keys (CMKs). Typically, you use CMKs to protect data encryption keys (or data keys) which are then used to encrypt or decrypt larger amounts of data outside of the service. CMKs never leave AWS KMS unencrypted, but data keys can. AWS KMS does not store, manage, or track your data keys. There is one AWS-managed CMK for each service that is integrated with AWS KMS. When you create an encrypted resource in these services, you can choose to protect that resource under the AWS-managed CMK for that service. This CMK is unique to your AWS account and the AWS region in which it is used, and it protects the data keys used by the AWS services to protect your data.\n",
    "\n",
    "**Data keys** - Data keys are used to encrypt large data objects within an application outside AWS KMS.\n",
    "\n",
    "**Key rotation and Backing Keys** - When you create a customer master key (CMK) in AWS KMS, the service creates a key ID for the CMK and key material, referred to as a backing key, that is tied to the key ID of the CMK. If you choose to enable key rotation for a given CMK, AWS KMS will create a new version of the backing key for each rotation. It is the backing key that is used to perform cryptographic operations such as encryption and decryption. Automated key rotation currently retains all prior backing keys so that decryption of encrypted data can take place transparently. CMK is simply a logical resource that does not change regardless of whether or of how many times the underlying backing keys have been rotated.\n",
    "\n"
   ]
  },
  {
   "cell_type": "code",
   "execution_count": null,
   "id": "d939e123-2e96-433d-9156-2f7c8b5dcaf1",
   "metadata": {},
   "outputs": [],
   "source": []
  }
 ],
 "metadata": {
  "kernelspec": {
   "display_name": "Python 3 (ipykernel)",
   "language": "python",
   "name": "python3"
  },
  "language_info": {
   "codemirror_mode": {
    "name": "ipython",
    "version": 3
   },
   "file_extension": ".py",
   "mimetype": "text/x-python",
   "name": "python",
   "nbconvert_exporter": "python",
   "pygments_lexer": "ipython3",
   "version": "3.9.7"
  }
 },
 "nbformat": 4,
 "nbformat_minor": 5
}
