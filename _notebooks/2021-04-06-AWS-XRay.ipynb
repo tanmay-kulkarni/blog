{
 "cells": [
  {
   "cell_type": "markdown",
   "metadata": {},
   "source": [
    "# About AWS X-ray\n",
    "> Things to keep in mind\n",
    "\n",
    "- toc: true\n",
    "- categories: [aws, certification, aws-x-ray]"
   ]
  },
  {
   "cell_type": "markdown",
   "metadata": {},
   "source": [
    "    1. X-ray integrates with many AWS services like DynamoDB, Lambda, API Gateway, etc.\n",
    "\n",
    "    2. You can also instruct your own applications to send data to X-ray\n",
    "\n",
    "    3. applications can be running on EC2, Elastic Beanstalk environments, on-premise systems or ECS\n",
    "\n",
    "    4. For ECS, run the X-ray daemon in it's own Docker image, running alongside your application\n",
    "\n",
    "    5. You can record application specific information in the form of key-value pairs"
   ]
  },
  {
   "cell_type": "markdown",
   "metadata": {},
   "source": [
    "**You need three things**\n",
    "\n",
    "    1. X-ray SDK\n",
    "    2. X-ray daemon\n",
    "    3. Instruct the application using the SDK to send data to X-ray"
   ]
  },
  {
   "cell_type": "code",
   "execution_count": null,
   "metadata": {},
   "outputs": [],
   "source": []
  }
 ],
 "metadata": {
  "kernelspec": {
   "display_name": "Python 3",
   "language": "python",
   "name": "python3"
  },
  "language_info": {
   "codemirror_mode": {
    "name": "ipython",
    "version": 3
   },
   "file_extension": ".py",
   "mimetype": "text/x-python",
   "name": "python",
   "nbconvert_exporter": "python",
   "pygments_lexer": "ipython3",
   "version": "3.9.1"
  }
 },
 "nbformat": 4,
 "nbformat_minor": 4
}
