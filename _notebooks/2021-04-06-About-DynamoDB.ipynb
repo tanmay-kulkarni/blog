{
 "cells": [
  {
   "cell_type": "markdown",
   "metadata": {},
   "source": [
    "# Things to remember about AWS DynamoDB\n",
    "> This short compendium will help in preparing for the AWS certification exams\n",
    "\n",
    "- toc: true\n",
    "- badges: true\n",
    "- categories: [aws, certification, dynamodb]"
   ]
  },
  {
   "cell_type": "markdown",
   "metadata": {},
   "source": [
    "# Indexes\n",
    "\n",
    "A secondary index allows you to perform more flexible querying on DynamoDB. It allows you to query on an attribute which is not the primary key. This can be done using \n",
    "\n",
    "- Global Secondary Index\n",
    "- Local Secondary Index\n",
    "\n",
    "You select the columns you want to include in the index and run your searches on the index instead of the entire dataset.\n"
   ]
  },
  {
   "cell_type": "markdown",
   "metadata": {},
   "source": [
    "## Local Secondary Index\n",
    "\n",
    "    Limitation: \n",
    "        Can only be created when you're creating the table.\n",
    "Has the same partition key as your original table, but a different sort key."
   ]
  },
  {
   "cell_type": "markdown",
   "metadata": {},
   "source": [
    "## Global Secondary index\n",
    "\n",
    "    Advantage:\n",
    "        Can be created even after creation of the table.\n",
    "        It allows you to use a different partition key as well as the sort key than your main table\n",
    "        Gives a totally different view of the table than the original table created (because of the above point)"
   ]
  },
  {
   "cell_type": "code",
   "execution_count": null,
   "metadata": {},
   "outputs": [],
   "source": []
  }
 ],
 "metadata": {
  "kernelspec": {
   "display_name": "Python 3",
   "language": "python",
   "name": "python3"
  },
  "language_info": {
   "codemirror_mode": {
    "name": "ipython",
    "version": 3
   },
   "file_extension": ".py",
   "mimetype": "text/x-python",
   "name": "python",
   "nbconvert_exporter": "python",
   "pygments_lexer": "ipython3",
   "version": "3.9.1"
  }
 },
 "nbformat": 4,
 "nbformat_minor": 4
}
