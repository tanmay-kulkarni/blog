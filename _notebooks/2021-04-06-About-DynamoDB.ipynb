{
 "cells": [
  {
   "cell_type": "markdown",
   "metadata": {},
   "source": [
    "# Things to remember about AWS DynamoDB\n",
    "> This short compendium will help in preparing for the AWS certification exams\n",
    "\n",
    "- toc: true\n",
    "- badges: true\n",
    "- categories: [aws, certification, dynamodb]"
   ]
  },
  {
   "cell_type": "markdown",
   "metadata": {},
   "source": [
    "# Indexes\n",
    "\n",
    "A secondary index allows you to perform more flexible querying on DynamoDB. It allows you to query on an attribute which is not the primary key. This can be done using \n",
    "\n",
    "- Global Secondary Index\n",
    "- Local Secondary Index\n",
    "\n",
    "You select the columns you want to include in the index and run your searches on the index instead of the entire dataset.\n"
   ]
  },
  {
   "cell_type": "markdown",
   "metadata": {},
   "source": [
    "## Local Secondary Index\n",
    "\n",
    "    Limitation: \n",
    "        Can only be created when you're creating the table.\n",
    "Has the same partition key as your original table, but a different sort key."
   ]
  },
  {
   "cell_type": "markdown",
   "metadata": {},
   "source": [
    "## Global Secondary index\n",
    "\n",
    "    Advantage:\n",
    "        Can be created even after creation of the table.\n",
    "        It allows you to use a different partition key as well as the sort key than your main table\n",
    "        Gives a totally different view of the table than the original table created (because of the above point)"
   ]
  },
  {
   "cell_type": "markdown",
   "metadata": {},
   "source": [
    "## Scan and Query API calls\n",
    "\n",
    "    QUERY:\n",
    "A query operation finds items in your table based on the primary key attribute, and a distinct value to search for. A query can be refined by using an optional sort key name and value. By default a query returns all the attributes. You can limit the attributes to the specific attributes you want by using the `ProjectionExpression` parameter.\n",
    "\n",
    "Results are always sorted by the sort key.\n",
    "\n",
    "You can reverse the order of the result by setting the `ScanIndexForward` attribute to False.\n",
    "\n",
    "**REMEMBER: `ScanIndexForward` is applicable only to queries and NOT to scans, despite the name** \n",
    "\n",
    "By default all queries are eventually consistent.\n",
    "\n",
    "    SCAN:\n",
    "\n",
    "A scan operation examines every attribute in the table. Again, you can use the `ProjectionExpression` parameter to limit the attributes returned.\n",
    "\n",
    "\n",
    "A query is more efficient than Scan.\n",
    "\n",
    "### Improving performance\n",
    "\n",
    "    * Set smaller page size\n",
    "    * Avoid scans if possible\n",
    "    * By using parallel scan. A scan by default operates in a sequential manner. But you can configure your DynamoDB to use parallel scans by logically dividing a table or index into segments and scanning each segment in parallel.\n",
    "    * Isolate scan operations to specific tables and segregate them from mission critical data"
   ]
  },
  {
   "cell_type": "code",
   "execution_count": null,
   "metadata": {},
   "outputs": [],
   "source": []
  }
 ],
 "metadata": {
  "kernelspec": {
   "display_name": "Python 3",
   "language": "python",
   "name": "python3"
  },
  "language_info": {
   "codemirror_mode": {
    "name": "ipython",
    "version": 3
   },
   "file_extension": ".py",
   "mimetype": "text/x-python",
   "name": "python",
   "nbconvert_exporter": "python",
   "pygments_lexer": "ipython3",
   "version": "3.9.1"
  }
 },
 "nbformat": 4,
 "nbformat_minor": 4
}
