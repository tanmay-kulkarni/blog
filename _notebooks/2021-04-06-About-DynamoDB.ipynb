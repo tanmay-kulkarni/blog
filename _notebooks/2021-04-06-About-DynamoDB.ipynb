{
 "cells": [
  {
   "cell_type": "markdown",
   "metadata": {},
   "source": [
    "# Things to remember about AWS DynamoDB\n",
    "> This short compendium will help in preparing for the AWS certification exams\n",
    "\n",
    "- toc: true\n",
    "- badges: true\n",
    "- categories: [aws, certification, dynamodb]"
   ]
  },
  {
   "cell_type": "markdown",
   "metadata": {},
   "source": [
    "## Types of Primary Keys\n",
    "\n",
    "    1. Partition Key\n",
    "    2. Composite Key (Partition key + Sort Key)"
   ]
  },
  {
   "cell_type": "markdown",
   "metadata": {},
   "source": [
    "## Access control to Data using IAM\n",
    "\n",
    "You can give fine-grained access to users in DynamoDB.\n",
    "\n",
    "e.g. users can access only items where the partitionKey value matches their User_Id"
   ]
  },
  {
   "cell_type": "markdown",
   "metadata": {},
   "source": [
    "# Indexes\n",
    "\n",
    "A secondary index allows you to perform more flexible querying on DynamoDB. It allows you to query on an attribute which is not the primary key. This can be done using \n",
    "\n",
    "- Global Secondary Index\n",
    "- Local Secondary Index\n",
    "\n",
    "You select the columns you want to include in the index and run your searches on the index instead of the entire dataset.\n"
   ]
  },
  {
   "cell_type": "markdown",
   "metadata": {},
   "source": [
    "## Local Secondary Index\n",
    "\n",
    "    Limitation: \n",
    "        Can only be created when you're creating the table.\n",
    "Has the same partition key as your original table, but a different sort key."
   ]
  },
  {
   "cell_type": "markdown",
   "metadata": {},
   "source": [
    "## Global Secondary index\n",
    "\n",
    "    Advantage:\n",
    "        Can be created even after creation of the table.\n",
    "        It allows you to use a different partition key as well as the sort key than your main table\n",
    "        Gives a totally different view of the table than the original table created (because of the above point)"
   ]
  },
  {
   "cell_type": "markdown",
   "metadata": {},
   "source": [
    "## Scan and Query API calls\n",
    "\n",
    "**QUERY**\n",
    "\n",
    "A query operation finds items in your table based on the primary key attribute, and a distinct value to search for. A query can be refined by using an optional sort key name and value. By default a query returns all the attributes. You can limit the attributes to the specific attributes you want by using the `ProjectionExpression` parameter.\n",
    "\n",
    "Results are always sorted by the sort key.\n",
    "\n",
    "You can reverse the order of the result by setting the `ScanIndexForward` attribute to False.\n",
    "\n",
    "**REMEMBER: `ScanIndexForward` is applicable only to queries and NOT to scans, despite the name** \n",
    "\n",
    "By default all queries are eventually consistent.\n",
    "\n",
    "**SCAN**\n",
    "\n",
    "A scan operation examines every attribute in the table. Again, you can use the `ProjectionExpression` parameter to limit the attributes returned.\n",
    "\n",
    "\n",
    "A query is more efficient than Scan.\n",
    "\n",
    "### Improving performance\n",
    "\n",
    "    - Set smaller page size\n",
    "    - Avoid scans if possible\n",
    "    - By using parallel scan. A scan by default operates in a sequential manner. But you can configure your DynamoDB to use parallel scans by logically dividing a table or index into segments and scanning each segment in parallel.\n",
    "    - Isolate scan operations to specific tables and segregate them from mission critical data"
   ]
  },
  {
   "cell_type": "markdown",
   "metadata": {},
   "source": [
    "## Provisioned Throughput\n",
    "\n",
    "Provisioned Throughput is measured in capacity units.\n",
    "\n",
    "* Write capacity units\n",
    "    - 1 x 1KB write per second\n",
    "* Strongly consistent reads\n",
    "    - 1 x 4KB read per second\n",
    "* Eventually consistent reads (default option)\n",
    "    - 2 x 4KB read per second\n",
    "    "
   ]
  },
  {
   "cell_type": "markdown",
   "metadata": {},
   "source": [
    "### Example 1:\n",
    "\n",
    "Imagine a table that has 5 read capacity units and 5 write capacity units\n",
    "\n",
    "This configuration will be able to perform\n",
    "\n",
    "* 5 x 4KB strongly consistent reads = 20KB per second\n",
    "* Twice as many eventually consistent reads = 40KB per second\n",
    "* 5 x 1KB writes = 5KB writes"
   ]
  },
  {
   "cell_type": "markdown",
   "metadata": {},
   "source": [
    "### Example 2:\n",
    "Imagine you have an application that needs to read 80 items per second. Each item is 3KB in size and you need strongly consistent reads.\n",
    "How many read capacity units will you need?\n",
    "\n",
    "    Ans:\n",
    "\n",
    "    Number of 4KB read capacity units needed per item = 3KB/4KB = 0.75 ~= 1\n",
    "\n",
    "    Number of items = 80\n",
    "\n",
    "    Therefore read capacity units needed = 80 x 1 = 80 for STRONGLY CONSISTENT\n",
    "\n",
    "    What if you need Eventually consistent reads?\n",
    "\n",
    "        = #Strongly Consistent /  2\n",
    "        = 80/2\n",
    "        = 40 for EVENTUALLY CONSISTENT"
   ]
  },
  {
   "cell_type": "markdown",
   "metadata": {},
   "source": [
    "### Example 3:\n",
    "\n",
    "Imagine you need to write 100 items per second to your DynamoDB table. Each item size 512 bytes.\n",
    "Each write capacity unit gives 1 1KB write per second. How many write capacity units will you need to provision?\n",
    "\n",
    "    Ans:\n",
    "\n",
    "    - Number of write capacity of 1KB/sec needed per item = 512/1024 bytes = 0.5 ~= 1 write capacity unit per item\n",
    "    - Number of writes required per second = 100\n",
    "    - Therefore, number of write capacity units required = 100 x 1 write capacity unit per item = 100\n",
    "    "
   ]
  },
  {
   "cell_type": "markdown",
   "metadata": {},
   "source": [
    "## Provisioned Throughput Exceeded Exception\n",
    "\n",
    "Occurs when your request rate is too high for the read/write capacity provisioned for your table.\n",
    "\n",
    "\n",
    "### Exponential Backoff\n",
    "\n",
    "The requester used progressively longer waits between consecutive wait times. "
   ]
  },
  {
   "cell_type": "markdown",
   "metadata": {},
   "source": [
    "## DynamoDB On Demand Capacity\n",
    "\n",
    "A pricing model for DynamoDB. Charges will be based on the activity. Can autoscale read/write capacity units as needed.\n",
    "\n",
    "    Great for:\n",
    "\n",
    "    - Unpredictable workload\n",
    "    - New applications where the use pattern is not known yet\n",
    "    - When you want to pay for only what you use"
   ]
  },
  {
   "cell_type": "markdown",
   "metadata": {},
   "source": [
    "## DynamoDB Accelerator (DAX)\n",
    "\n",
    "It's a fully managed, clustered in memory cache for DynamoDB.\n",
    "\n",
    "    But only for Read performance. Ideal for read heavy or bursty read applications.\n",
    "    DAX is a write through caching service.\n",
    "    Data is written to the cache and the backend store at the same time\n",
    "    This allows you to point your DynamoDB API calls at the DAX cluster \n",
    "    \n",
    "    *Limitations*\n",
    "    \n",
    "    1. It caters to applications that need Eventual Consistency. Not suitable for Strongly consistent read needs\n",
    "    2. Not suitable for write-intensive applications"
   ]
  },
  {
   "cell_type": "markdown",
   "metadata": {},
   "source": [
    "## DynamoDB TTL\n",
    "\n",
    "Defines an expiry time for your data. Expired items are marked for deletion.\n",
    "\n",
    "Really good for applications that generate irrelevant or old data. e.g. session data, event logs, any temporary data.\n"
   ]
  },
  {
   "cell_type": "markdown",
   "metadata": {},
   "source": [
    "## DynamoDB Streams\n",
    "\n",
    "it's an ordered sequence of item level modifications.\n",
    "\n",
    "These are stored as logs. These logs are encrypted at rest and stored for 24 hours only.\n",
    "\n",
    "They can be used for triggering events based on certain transactions. Great for serverless architectures.\n",
    "\n",
    "They can also be used for replicating data across multiple tables."
   ]
  }
 ],
 "metadata": {
  "kernelspec": {
   "display_name": "Python 3",
   "language": "python",
   "name": "python3"
  },
  "language_info": {
   "codemirror_mode": {
    "name": "ipython",
    "version": 3
   },
   "file_extension": ".py",
   "mimetype": "text/x-python",
   "name": "python",
   "nbconvert_exporter": "python",
   "pygments_lexer": "ipython3",
   "version": "3.9.1"
  }
 },
 "nbformat": 4,
 "nbformat_minor": 4
}
