{
 "cells": [
  {
   "cell_type": "markdown",
   "id": "16cc40b9-cbdb-424c-a051-d94734b8a798",
   "metadata": {},
   "source": [
    "# Airflow\n",
    "> Quick Airflow Reference\n",
    "\n",
    "- toc: true\n",
    "- badges: true\n",
    "- categories: [airflow, interview-prep]"
   ]
  },
  {
   "cell_type": "markdown",
   "id": "a6be3851-f426-416a-b3e4-aa3933fa4b77",
   "metadata": {},
   "source": []
  }
 ],
 "metadata": {
  "kernelspec": {
   "display_name": "Python 3 (ipykernel)",
   "language": "python",
   "name": "python3"
  },
  "language_info": {
   "codemirror_mode": {
    "name": "ipython",
    "version": 3
   },
   "file_extension": ".py",
   "mimetype": "text/x-python",
   "name": "python",
   "nbconvert_exporter": "python",
   "pygments_lexer": "ipython3",
   "version": "3.9.7"
  }
 },
 "nbformat": 4,
 "nbformat_minor": 5
}
