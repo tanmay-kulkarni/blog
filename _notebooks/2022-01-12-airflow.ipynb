{
 "cells": [
  {
   "cell_type": "markdown",
   "id": "16cc40b9-cbdb-424c-a051-d94734b8a798",
   "metadata": {},
   "source": [
    "# Airflow\n",
    "> Quick Airflow Reference\n",
    "\n",
    "- toc: true\n",
    "- badges: true\n",
    "- categories: [airflow, interview-prep]"
   ]
  },
  {
   "cell_type": "markdown",
   "id": "729347d6-1015-4508-91dc-621e36336cd5",
   "metadata": {},
   "source": [
    "**Running a workflow in Airflow**\n",
    "\n",
    "    Running a simple Airflow task\n",
    "\n",
    "    airflow run <dag_id> <task_id> <start_date>"
   ]
  },
  {
   "cell_type": "markdown",
   "id": "9a44ff67-4aca-4e79-9661-4a844efe3434",
   "metadata": {},
   "source": [
    "* Dags are written in Python, but they can use components written in other languages\n",
    "    - Dags are made up of components (called tasks) to be executed, such as Operators, sensors, etc.\n",
    "    - "
   ]
  }
 ],
 "metadata": {
  "kernelspec": {
   "display_name": "Python 3 (ipykernel)",
   "language": "python",
   "name": "python3"
  },
  "language_info": {
   "codemirror_mode": {
    "name": "ipython",
    "version": 3
   },
   "file_extension": ".py",
   "mimetype": "text/x-python",
   "name": "python",
   "nbconvert_exporter": "python",
   "pygments_lexer": "ipython3",
   "version": "3.9.7"
  }
 },
 "nbformat": 4,
 "nbformat_minor": 5
}
